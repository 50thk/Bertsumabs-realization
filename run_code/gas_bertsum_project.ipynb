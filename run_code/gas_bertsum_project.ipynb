{
  "cells": [
    {
      "cell_type": "markdown",
      "source": [
        ""
      ],
      "metadata": {
        "id": "EENXaVB72CLV"
      }
    },
    {
      "cell_type": "code",
      "execution_count": 1,
      "metadata": {
        "colab": {
          "base_uri": "https://localhost:8080/"
        },
        "id": "etAflJrSiLT0",
        "outputId": "486d9ab6-9052-435a-8fe9-19c7bc805968"
      },
      "outputs": [
        {
          "output_type": "stream",
          "name": "stdout",
          "text": [
            "Looking in indexes: https://pypi.org/simple, https://us-python.pkg.dev/colab-wheels/public/simple/\n",
            "Collecting git+https://****@github.com/SKTBrain/KoBERT.git@master\n",
            "  Cloning https://****@github.com/SKTBrain/KoBERT.git (to revision master) to /tmp/pip-req-build-l5l1is5t\n",
            "  Running command git clone -q 'https://****@github.com/SKTBrain/KoBERT.git' /tmp/pip-req-build-l5l1is5t\n",
            "Requirement already satisfied: boto3 in /usr/local/lib/python3.7/dist-packages (from kobert==0.2.3) (1.24.22)\n",
            "Requirement already satisfied: gluonnlp>=0.6.0 in /usr/local/lib/python3.7/dist-packages (from kobert==0.2.3) (0.10.0)\n",
            "Requirement already satisfied: mxnet>=1.4.0 in /usr/local/lib/python3.7/dist-packages (from kobert==0.2.3) (1.9.1)\n",
            "Requirement already satisfied: onnxruntime==1.8.0 in /usr/local/lib/python3.7/dist-packages (from kobert==0.2.3) (1.8.0)\n",
            "Requirement already satisfied: sentencepiece>=0.1.6 in /usr/local/lib/python3.7/dist-packages (from kobert==0.2.3) (0.1.96)\n",
            "Requirement already satisfied: torch>=1.7.0 in /usr/local/lib/python3.7/dist-packages (from kobert==0.2.3) (1.11.0+cu113)\n",
            "Requirement already satisfied: transformers>=4.8.1 in /usr/local/lib/python3.7/dist-packages (from kobert==0.2.3) (4.20.1)\n",
            "Requirement already satisfied: numpy>=1.16.6 in /usr/local/lib/python3.7/dist-packages (from onnxruntime==1.8.0->kobert==0.2.3) (1.21.6)\n",
            "Requirement already satisfied: flatbuffers in /usr/local/lib/python3.7/dist-packages (from onnxruntime==1.8.0->kobert==0.2.3) (2.0)\n",
            "Requirement already satisfied: protobuf in /usr/local/lib/python3.7/dist-packages (from onnxruntime==1.8.0->kobert==0.2.3) (3.17.3)\n",
            "Requirement already satisfied: cython in /usr/local/lib/python3.7/dist-packages (from gluonnlp>=0.6.0->kobert==0.2.3) (0.29.30)\n",
            "Requirement already satisfied: packaging in /usr/local/lib/python3.7/dist-packages (from gluonnlp>=0.6.0->kobert==0.2.3) (21.3)\n",
            "Requirement already satisfied: requests<3,>=2.20.0 in /usr/local/lib/python3.7/dist-packages (from mxnet>=1.4.0->kobert==0.2.3) (2.23.0)\n",
            "Requirement already satisfied: graphviz<0.9.0,>=0.8.1 in /usr/local/lib/python3.7/dist-packages (from mxnet>=1.4.0->kobert==0.2.3) (0.8.4)\n",
            "Requirement already satisfied: certifi>=2017.4.17 in /usr/local/lib/python3.7/dist-packages (from requests<3,>=2.20.0->mxnet>=1.4.0->kobert==0.2.3) (2022.6.15)\n",
            "Requirement already satisfied: chardet<4,>=3.0.2 in /usr/local/lib/python3.7/dist-packages (from requests<3,>=2.20.0->mxnet>=1.4.0->kobert==0.2.3) (3.0.4)\n",
            "Requirement already satisfied: idna<3,>=2.5 in /usr/local/lib/python3.7/dist-packages (from requests<3,>=2.20.0->mxnet>=1.4.0->kobert==0.2.3) (2.10)\n",
            "Requirement already satisfied: urllib3!=1.25.0,!=1.25.1,<1.26,>=1.21.1 in /usr/local/lib/python3.7/dist-packages (from requests<3,>=2.20.0->mxnet>=1.4.0->kobert==0.2.3) (1.25.11)\n",
            "Requirement already satisfied: typing-extensions in /usr/local/lib/python3.7/dist-packages (from torch>=1.7.0->kobert==0.2.3) (4.1.1)\n",
            "Requirement already satisfied: tokenizers!=0.11.3,<0.13,>=0.11.1 in /usr/local/lib/python3.7/dist-packages (from transformers>=4.8.1->kobert==0.2.3) (0.12.1)\n",
            "Requirement already satisfied: tqdm>=4.27 in /usr/local/lib/python3.7/dist-packages (from transformers>=4.8.1->kobert==0.2.3) (4.64.0)\n",
            "Requirement already satisfied: importlib-metadata in /usr/local/lib/python3.7/dist-packages (from transformers>=4.8.1->kobert==0.2.3) (4.11.4)\n",
            "Requirement already satisfied: filelock in /usr/local/lib/python3.7/dist-packages (from transformers>=4.8.1->kobert==0.2.3) (3.7.1)\n",
            "Requirement already satisfied: regex!=2019.12.17 in /usr/local/lib/python3.7/dist-packages (from transformers>=4.8.1->kobert==0.2.3) (2022.6.2)\n",
            "Requirement already satisfied: pyyaml>=5.1 in /usr/local/lib/python3.7/dist-packages (from transformers>=4.8.1->kobert==0.2.3) (6.0)\n",
            "Requirement already satisfied: huggingface-hub<1.0,>=0.1.0 in /usr/local/lib/python3.7/dist-packages (from transformers>=4.8.1->kobert==0.2.3) (0.8.1)\n",
            "Requirement already satisfied: pyparsing!=3.0.5,>=2.0.2 in /usr/local/lib/python3.7/dist-packages (from packaging->gluonnlp>=0.6.0->kobert==0.2.3) (3.0.9)\n",
            "Requirement already satisfied: jmespath<2.0.0,>=0.7.1 in /usr/local/lib/python3.7/dist-packages (from boto3->kobert==0.2.3) (1.0.1)\n",
            "Requirement already satisfied: botocore<1.28.0,>=1.27.22 in /usr/local/lib/python3.7/dist-packages (from boto3->kobert==0.2.3) (1.27.22)\n",
            "Requirement already satisfied: s3transfer<0.7.0,>=0.6.0 in /usr/local/lib/python3.7/dist-packages (from boto3->kobert==0.2.3) (0.6.0)\n",
            "Requirement already satisfied: python-dateutil<3.0.0,>=2.1 in /usr/local/lib/python3.7/dist-packages (from botocore<1.28.0,>=1.27.22->boto3->kobert==0.2.3) (2.8.2)\n",
            "Requirement already satisfied: six>=1.5 in /usr/local/lib/python3.7/dist-packages (from python-dateutil<3.0.0,>=2.1->botocore<1.28.0,>=1.27.22->boto3->kobert==0.2.3) (1.15.0)\n",
            "Requirement already satisfied: zipp>=0.5 in /usr/local/lib/python3.7/dist-packages (from importlib-metadata->transformers>=4.8.1->kobert==0.2.3) (3.8.0)\n"
          ]
        }
      ],
      "source": [
        "!pip install git+https://git@github.com/SKTBrain/KoBERT.git@master"
      ]
    },
    {
      "cell_type": "code",
      "execution_count": 2,
      "metadata": {
        "id": "NC8ED87DjHsN"
      },
      "outputs": [],
      "source": [
        "!pip install -q transformers"
      ]
    },
    {
      "cell_type": "code",
      "execution_count": 4,
      "metadata": {
        "id": "Qc_gOzN6k26T"
      },
      "outputs": [],
      "source": [
        "from genericpath import exists\n",
        "import sys\n",
        "import os\n",
        "\n",
        "my_path = '/content/bertsum1'\n",
        "# Colab Notebooks 안에 my_env 폴더에 패키지 저장\n",
        "os.symlink('/content/drive/MyDrive/ColabNotebooks/dacon-gas/AI/04/bertsum_realization', my_path)\n",
        "sys.path.insert(0, my_path)"
      ]
    },
    {
      "cell_type": "code",
      "execution_count": 5,
      "metadata": {
        "id": "dfPiqjSyJC0z",
        "colab": {
          "base_uri": "https://localhost:8080/"
        },
        "outputId": "6e0ccbfc-6e33-4ac0-a921-c7b84799fed0"
      },
      "outputs": [
        {
          "output_type": "stream",
          "name": "stdout",
          "text": [
            "Looking in indexes: https://pypi.org/simple, https://us-python.pkg.dev/colab-wheels/public/simple/\n",
            "Requirement already satisfied: tensorboardX in /usr/local/lib/python3.7/dist-packages (2.5.1)\n",
            "Requirement already satisfied: pyrouge in /usr/local/lib/python3.7/dist-packages (0.1.3)\n",
            "Requirement already satisfied: protobuf<=3.20.1,>=3.8.0 in /usr/local/lib/python3.7/dist-packages (from tensorboardX) (3.17.3)\n",
            "Requirement already satisfied: numpy in /usr/local/lib/python3.7/dist-packages (from tensorboardX) (1.21.6)\n",
            "Requirement already satisfied: six>=1.9 in /usr/local/lib/python3.7/dist-packages (from protobuf<=3.20.1,>=3.8.0->tensorboardX) (1.15.0)\n"
          ]
        }
      ],
      "source": [
        "!pip install tensorboardX pyrouge"
      ]
    },
    {
      "cell_type": "code",
      "execution_count": 6,
      "metadata": {
        "colab": {
          "base_uri": "https://localhost:8080/"
        },
        "id": "heaQyIAQis0K",
        "outputId": "4f11dba0-d225-4627-a39f-e0f08bd11a91"
      },
      "outputs": [
        {
          "output_type": "stream",
          "name": "stdout",
          "text": [
            "[VERSION]\n",
            "torch: 1.11.0+cu113\n",
            "transformers: 4.20.1\n"
          ]
        }
      ],
      "source": [
        "import torch\n",
        "import transformers\n",
        "\n",
        "import datetime\n",
        "import easydict\n",
        "import itertools\n",
        "import json\n",
        "import matplotlib\n",
        "import pathlib\n",
        "import pprint\n",
        "import re\n",
        "\n",
        "import numpy as np\n",
        "import pandas as pd\n",
        "\n",
        "from matplotlib import pyplot as plt\n",
        "from operator import itemgetter\n",
        "from pathlib import Path\n",
        "from sklearn.model_selection import train_test_split\n",
        "from tqdm import tqdm\n",
        "from typing import List, Dict\n",
        "\n",
        "## Version.\n",
        "print(\"[VERSION]\")\n",
        "print(f\"torch: {torch.__version__}\")\n",
        "print(f\"transformers: {transformers.__version__}\")"
      ]
    },
    {
      "cell_type": "code",
      "execution_count": 7,
      "metadata": {
        "colab": {
          "base_uri": "https://localhost:8080/"
        },
        "id": "qkcFdFO9kO_1",
        "outputId": "3a5bc1a9-f396-483b-e13c-e8d023a1b207"
      },
      "outputs": [
        {
          "output_type": "stream",
          "name": "stdout",
          "text": [
            "Drive already mounted at /content/drive; to attempt to forcibly remount, call drive.mount(\"/content/drive\", force_remount=True).\n"
          ]
        }
      ],
      "source": [
        "try:\n",
        "    from google.colab import drive\n",
        "    drive.mount(\"/content/drive\")\n",
        "except:\n",
        "    raise AssertionError()"
      ]
    },
    {
      "cell_type": "code",
      "execution_count": 8,
      "metadata": {
        "colab": {
          "base_uri": "https://localhost:8080/"
        },
        "id": "fLt2ml07j6PO",
        "outputId": "c95dfb64-f71a-4d04-d3d3-43226d7dbbf9"
      },
      "outputs": [
        {
          "output_type": "stream",
          "name": "stdout",
          "text": [
            "Python 3.7.13\n"
          ]
        }
      ],
      "source": [
        "!python -V"
      ]
    },
    {
      "cell_type": "code",
      "execution_count": 9,
      "metadata": {
        "colab": {
          "base_uri": "https://localhost:8080/"
        },
        "id": "zDVsO2EwtDKe",
        "outputId": "7946ce1a-ee57-4a0a-befa-7418175acfda"
      },
      "outputs": [
        {
          "output_type": "stream",
          "name": "stdout",
          "text": [
            "Filesystem      Size  Used Avail Use% Mounted on\n",
            "overlay         108G   39G   69G  37% /\n",
            "tmpfs            64M     0   64M   0% /dev\n",
            "shm             5.8G     0  5.8G   0% /dev/shm\n",
            "/dev/root       2.0G  1.2G  812M  59% /sbin/docker-init\n",
            "tmpfs           6.4G   28K  6.4G   1% /var/colab\n",
            "/dev/sda1        81G   43G   39G  53% /etc/hosts\n",
            "tmpfs           6.4G     0  6.4G   0% /proc/acpi\n",
            "tmpfs           6.4G     0  6.4G   0% /proc/scsi\n",
            "tmpfs           6.4G     0  6.4G   0% /sys/firmware\n",
            "drive           108G   49G   60G  46% /content/drive\n"
          ]
        }
      ],
      "source": [
        "!df -h"
      ]
    },
    {
      "cell_type": "code",
      "execution_count": 10,
      "metadata": {
        "colab": {
          "base_uri": "https://localhost:8080/"
        },
        "id": "DwLsMn8poT72",
        "outputId": "67a95341-b1d1-45c2-a885-7ea5b5a322f9"
      },
      "outputs": [
        {
          "output_type": "stream",
          "name": "stdout",
          "text": [
            "/content\n"
          ]
        }
      ],
      "source": [
        "cd /content"
      ]
    },
    {
      "cell_type": "code",
      "execution_count": 11,
      "metadata": {
        "colab": {
          "base_uri": "https://localhost:8080/"
        },
        "id": "-BCEa4JBhHeT",
        "outputId": "bcbcdf89-5303-49b6-df20-fee310707c84"
      },
      "outputs": [
        {
          "output_type": "stream",
          "name": "stdout",
          "text": [
            "NVIDIA-SMI has failed because it couldn't communicate with the NVIDIA driver. Make sure that the latest NVIDIA driver is installed and running.\n",
            "\n",
            "              total        used        free      shared  buff/cache   available\n",
            "Mem:            12G        734M        7.9G        1.2M        4.1G         11G\n",
            "Swap:            0B          0B          0B\n"
          ]
        }
      ],
      "source": [
        "!nvidia-smi; free -h"
      ]
    },
    {
      "cell_type": "code",
      "source": [
        "import os\n",
        "\n",
        "model_flags = ['hidden_size', 'ff_size', 'heads', 'emb_size', 'enc_layers', 'enc_hidden_size', 'enc_ff_size',\n",
        "               'dec_layers', 'dec_hidden_size', 'dec_ff_size', 'encoder', 'ff_actv', 'use_interval']\n",
        "\n",
        "BERT_DATA_PATH='./drive/MyDrive/ColabNotebooks/dacon-gas/'\n",
        "OUTPUT_PATH='./drive/MyDrive/ColabNotebooks/dacon-gas/bertsumabs/testest'\n",
        "CHECKPOINT_PATH='./drive/MyDrive/ColabNotebooks/dacon-gas/pre/checkpoint/model_step_200000.pt'\n",
        "LOGDIR='./logs/news.log'\n",
        "\n",
        "args = easydict.EasyDict({\n",
        "    \"task\": 'ext',\n",
        "    \"encoder\": 'bert',\n",
        "    \"mode\": 'train',\n",
        "    \"bert_data_path\": './bert_data_kor/',\n",
        "    \"model_path\": './models/',\n",
        "    \"result_path\": './results/news',\n",
        "    \"temp_dir\": './temp',\n",
        "\n",
        "    \"batch_size\": 140,\n",
        "    \"test_batch_size\": 200,\n",
        "\n",
        "    \"max_pos\": 512,\n",
        "    \"use_interval\":True,\n",
        "    \"large\":False,\n",
        "    \"load_from_extractive\": '',\n",
        "\n",
        "    \"sep_optim\": False,\n",
        "    \"lr_bert\": 2e-3,\n",
        "    \"lr_dec\": 2e-3,\n",
        "    \"use_bert_emb\": False,\n",
        "\n",
        "    \"share_emb\":False,\n",
        "    \"finetune_bert\": True,\n",
        "    \"dec_dropout\": 0.2,\n",
        "    \"dec_layers\": 6,\n",
        "    \"dec_hidden_size\": 768 ,\n",
        "    \"dec_heads\": 8 ,\n",
        "    \"dec_ff_size\": 2048 ,\n",
        "    \"enc_hidden_size\": 512 ,\n",
        "    \"enc_ff_size\": 512 ,\n",
        "    \"enc_dropout\": 0.2 ,\n",
        "    \"enc_layers\": 6 ,\n",
        "\n",
        "    # params for EXT\n",
        "    \"ext_dropout\": 0.2 ,\n",
        "    \"ext_layers\": 2 ,\n",
        "    \"ext_hidden_size\": 768 ,\n",
        "    \"ext_heads\": 8 ,\n",
        "    \"ext_ff_size\": 2048 ,\n",
        "\n",
        "    \"label_smoothing\": 0.1 ,\n",
        "    \"generator_shard_size\": 32 ,\n",
        "    \"alpha\":  0.6 ,\n",
        "    \"beam_size\": 5 ,\n",
        "    \"min_length\": 15 ,\n",
        "    \"max_length\": 150 ,\n",
        "    \"max_tgt_len\": 140 ,\n",
        "\n",
        "\n",
        "\n",
        "    \"param_init\": 0 ,\n",
        "    \"param_init_glorot\": True,\n",
        "    \"optim\": 'adam' ,\n",
        "    \"lr\": 1 ,\n",
        "    \"beta1\":  0.9 ,\n",
        "    \"beta2\": 0.999 ,\n",
        "    \"warmup_steps\": 8000 ,\n",
        "    \"warmup_steps_bert\": 8000 ,\n",
        "    \"warmup_steps_dec\": 8000 ,\n",
        "    \"max_grad_norm\": 0 ,\n",
        "\n",
        "    \"save_checkpoint_steps\": 5 ,\n",
        "    \"accum_count\": 1 ,\n",
        "    \"report_every\": 1 ,\n",
        "    \"train_steps\": 1000 ,\n",
        "    \"recall_eval\":False,\n",
        "\n",
        "\n",
        "    'visible_gpus': '-1' ,\n",
        "    'gpu_ranks': '-1' ,\n",
        "    'log_file': './logs/cnndm.log',\n",
        "    'seed': 666 ,\n",
        "\n",
        "    \"test_all\": False,\n",
        "    \"test_from\": '',\n",
        "    \"test_start_from\": -1 ,\n",
        "\n",
        "    \"train_from\": '',\n",
        "    \"report_rouge\": True,\n",
        "    \"block_trigram\": True,\n",
        "})\n",
        "\n",
        "args.world_size = len(args.gpu_ranks)\n",
        "os.environ[\"CUDA_VISIBLE_DEVICES\"] = args.visible_gpus"
      ],
      "metadata": {
        "id": "_xnm20V6C-bl"
      },
      "execution_count": 12,
      "outputs": []
    },
    {
      "cell_type": "code",
      "source": [
        "args.task = 'abs'\n",
        "args.mode = 'test'\n",
        "args.batch_size = 3000\n",
        "args.test_batch_size = 3000\n",
        "args.bert_data_path = BERT_DATA_PATH\n",
        "args.log_file = LOGDIR\n",
        "args.sep_optim = True\n",
        "args.use_interval = True\n",
        "args.visible_gpus = '-1'\n",
        "args.max_pos = 512\n",
        "args.max_tgt_len = 300\n",
        "args.alpha = 0.95\n",
        "args.min_length = 50\n",
        "args.report_rouge = False\n",
        "args.result_path = OUTPUT_PATH\n",
        "args.test_from = CHECKPOINT_PATH"
      ],
      "metadata": {
        "id": "EljtW6sV21ly"
      },
      "execution_count": 13,
      "outputs": []
    },
    {
      "cell_type": "code",
      "source": [
        "!git clone https://github.com/hyunwoongko/kss"
      ],
      "metadata": {
        "id": "FT8-mLKb-S04",
        "colab": {
          "base_uri": "https://localhost:8080/"
        },
        "outputId": "339d2399-3c9a-465c-935f-9a72d93d0a5e"
      },
      "execution_count": 14,
      "outputs": [
        {
          "output_type": "stream",
          "name": "stdout",
          "text": [
            "fatal: destination path 'kss' already exists and is not an empty directory.\n"
          ]
        }
      ]
    },
    {
      "cell_type": "code",
      "source": [
        "cd /content/kss"
      ],
      "metadata": {
        "id": "gIen6AjJ_qUg",
        "colab": {
          "base_uri": "https://localhost:8080/"
        },
        "outputId": "1dc45e5a-6676-4ae0-cd5a-548c87d04aee"
      },
      "execution_count": 15,
      "outputs": [
        {
          "output_type": "stream",
          "name": "stdout",
          "text": [
            "/content/kss\n"
          ]
        }
      ]
    },
    {
      "cell_type": "code",
      "source": [
        "!pip install -e ."
      ],
      "metadata": {
        "id": "-g-ch9w4_r0J",
        "colab": {
          "base_uri": "https://localhost:8080/"
        },
        "outputId": "430b5fb5-3e18-4edc-dbd6-2cfd78bf8bb5"
      },
      "execution_count": 16,
      "outputs": [
        {
          "output_type": "stream",
          "name": "stdout",
          "text": [
            "Looking in indexes: https://pypi.org/simple, https://us-python.pkg.dev/colab-wheels/public/simple/\n",
            "Obtaining file:///content/kss\n",
            "Requirement already satisfied: emoji in /usr/local/lib/python3.7/dist-packages (from kss==3.4.3) (1.7.0)\n",
            "Requirement already satisfied: regex in /usr/local/lib/python3.7/dist-packages (from kss==3.4.3) (2022.6.2)\n",
            "Requirement already satisfied: more_itertools in /usr/local/lib/python3.7/dist-packages (from kss==3.4.3) (8.13.0)\n",
            "Installing collected packages: kss\n",
            "  Attempting uninstall: kss\n",
            "    Found existing installation: kss 3.4.3\n",
            "    Can't uninstall 'kss'. No files were found to uninstall.\n",
            "  Running setup.py develop for kss\n",
            "Successfully installed kss-3.4.3\n"
          ]
        }
      ]
    },
    {
      "cell_type": "code",
      "source": [
        "cd /content"
      ],
      "metadata": {
        "id": "rILpxGtGCWvo",
        "colab": {
          "base_uri": "https://localhost:8080/"
        },
        "outputId": "9cc3f6e2-3eb0-4a4b-d27f-e2241dd5a3d2"
      },
      "execution_count": 17,
      "outputs": [
        {
          "output_type": "stream",
          "name": "stdout",
          "text": [
            "/content\n"
          ]
        }
      ]
    },
    {
      "cell_type": "code",
      "source": [
        "# !pip install -v python-mecab-ko==1.0.9"
      ],
      "metadata": {
        "id": "Md4NGA5XBJfu"
      },
      "execution_count": 18,
      "outputs": []
    },
    {
      "cell_type": "code",
      "source": [
        "!pip install -q jupyter-dash==0.3.0 dash-bootstrap-components"
      ],
      "metadata": {
        "id": "ZovF0glBZF4a"
      },
      "execution_count": 19,
      "outputs": []
    },
    {
      "cell_type": "code",
      "source": [
        "!pip install -q dash==2.0.0"
      ],
      "metadata": {
        "id": "_jIWIXdHewrA"
      },
      "execution_count": 20,
      "outputs": []
    },
    {
      "cell_type": "markdown",
      "source": [
        "****"
      ],
      "metadata": {
        "id": "jqJCoNsT27ms"
      }
    },
    {
      "cell_type": "code",
      "source": [
        "from train_abstractive import test_abs\n",
        "from prepro.data_builder import BertData"
      ],
      "metadata": {
        "id": "U4rm0LWE2iBF"
      },
      "execution_count": 21,
      "outputs": []
    },
    {
      "cell_type": "code",
      "source": [
        "ddd = BertData().preprocess('''\n",
        "오늘(4일)도 전국 대부분 지역에서 무더운 날씨가 이어지겠습니다. 낮부터는 수도권과 중·남부 지역에 비 소식이 있습니다.\n",
        "\n",
        "기상청은 이날 오전 전국 대부분 지역에 구름이 많고 남해안과 제주도는 대체로 흐리겠다고 예보했습니다.\n",
        "\n",
        "낮 최고기온은 28~35도로 어제와 비슷하겠습니다.\n",
        "\n",
        "체감온도 또한 33~35도 내외로 오르면서 매우 덥겠습니다.\n",
        "\n",
        "이날 낮 12시부터 수도권과 남부지방 및 강원, 충청권에는 예상 강수량 5~40㎜의 소나기가 내릴 것으로 예상됩니다.\n",
        "\n",
        "오전까지 중부 내륙에는 가시거리 1㎞ 미만의 안개가 낄 것으로 예보됐습니다.\n",
        "\n",
        "제주도와 남해 먼바다에는 돌풍과 함께 천둥·번개가 치겠습니다. 바람이 시속 35~65㎞로 매우 강하게 불고 물결도 2~4m로 매우 높게 일겠습니다.\n",
        "\n",
        "미세먼지 농도는 대기 확산이 원활하고 비가 내린 영향으로 전국이 대체로 '좋음' 또는 '보통' 수준을 보일 전망입니다.\n",
        "''')"
      ],
      "metadata": {
        "colab": {
          "base_uri": "https://localhost:8080/"
        },
        "id": "4fQgKrZL8hVk",
        "outputId": "5e152b7a-36a4-42cf-bfec-19d5814d1685"
      },
      "execution_count": 22,
      "outputs": [
        {
          "output_type": "stream",
          "name": "stdout",
          "text": [
            "/content/./tmp/kobert_news_wiki_ko_cased-1087f8699e.spiece[██████████████████████████████████████████████████]\n",
            "/content/.cache/kobert_news_wiki_ko_cased-1087f8699e.spiece[██████████████████████████████████████████████████]\n"
          ]
        },
        {
          "output_type": "stream",
          "name": "stderr",
          "text": [
            "[Korean Sentence Splitter]: Initializing Pynori...\n"
          ]
        }
      ]
    },
    {
      "cell_type": "code",
      "source": [
        "pred = test_abs(args, ddd, device_id='-1', pt='', step=200000)"
      ],
      "metadata": {
        "colab": {
          "base_uri": "https://localhost:8080/"
        },
        "id": "-0I3FPRK8tLt",
        "outputId": "1eab1bed-27dc-40be-eba8-40003b7ce3f4"
      },
      "execution_count": 23,
      "outputs": [
        {
          "output_type": "stream",
          "name": "stdout",
          "text": [
            "{'task': 'abs', 'encoder': 'bert', 'mode': 'test', 'bert_data_path': './drive/MyDrive/ColabNotebooks/dacon-gas/', 'model_path': './models/', 'result_path': './drive/MyDrive/ColabNotebooks/dacon-gas/bertsumabs/testest', 'temp_dir': './temp', 'batch_size': 3000, 'test_batch_size': 3000, 'max_pos': 512, 'use_interval': True, 'large': False, 'load_from_extractive': '', 'sep_optim': True, 'lr_bert': 0.002, 'lr_dec': 0.002, 'use_bert_emb': False, 'share_emb': False, 'finetune_bert': True, 'dec_dropout': 0.2, 'dec_layers': 6, 'dec_hidden_size': 768, 'dec_heads': 8, 'dec_ff_size': 2048, 'enc_hidden_size': 512, 'enc_ff_size': 512, 'enc_dropout': 0.2, 'enc_layers': 6, 'ext_dropout': 0.2, 'ext_layers': 2, 'ext_hidden_size': 768, 'ext_heads': 8, 'ext_ff_size': 2048, 'label_smoothing': 0.1, 'generator_shard_size': 32, 'alpha': 0.95, 'beam_size': 5, 'min_length': 50, 'max_length': 150, 'max_tgt_len': 300, 'param_init': 0, 'param_init_glorot': True, 'optim': 'adam', 'lr': 1, 'beta1': 0.9, 'beta2': 0.999, 'warmup_steps': 8000, 'warmup_steps_bert': 8000, 'warmup_steps_dec': 8000, 'max_grad_norm': 0, 'save_checkpoint_steps': 5, 'accum_count': 1, 'report_every': 1, 'train_steps': 1000, 'recall_eval': False, 'visible_gpus': '-1', 'gpu_ranks': '-1', 'log_file': './logs/news.log', 'seed': 666, 'test_all': False, 'test_from': './drive/MyDrive/ColabNotebooks/dacon-gas/pre/checkpoint/model_step_200000.pt', 'test_start_from': -1, 'train_from': '', 'report_rouge': False, 'block_trigram': True, 'world_size': 2}\n",
            "/content/./temp/kobert_news_wiki_ko_cased-1087f8699e.spiece[██████████████████████████████████████████████████]\n",
            "/content/./temp/kobert_v1.zip[██████████████████████████████████████████████████]\n",
            "using cached model. /content/.cache/kobert_news_wiki_ko_cased-1087f8699e.spiece\n",
            "using cached model. /content/./temp/kobert_news_wiki_ko_cased-1087f8699e.spiece\n"
          ]
        }
      ]
    },
    {
      "cell_type": "code",
      "source": [
        "pred"
      ],
      "metadata": {
        "colab": {
          "base_uri": "https://localhost:8080/"
        },
        "id": "f_2jHFP589vf",
        "outputId": "4e419e52-29a2-4244-bc81-5093884c38ef"
      },
      "execution_count": 24,
      "outputs": [
        {
          "output_type": "execute_result",
          "data": {
            "text/plain": [
              "['기상청은 4일 오전 전국 대부분 지역에 구름이 많고 남해안과 제주도는 대체로 흐리겠다고 예보한 가운데 , 이날 낮 12시부터 수도권과 남부지방 및 강원권에는 예상 강수량 5 ~ 40mm의 소나기가 내릴 것으로 예상 강수량 5 ~ 4km 미만의 안개가 내릴 것으로 예상된다 .']"
            ]
          },
          "metadata": {},
          "execution_count": 24
        }
      ]
    },
    {
      "cell_type": "code",
      "source": [
        "import time\n",
        "\n",
        "import dash\n",
        "import dash_html_components as html\n",
        "import dash_core_components as dcc\n",
        "import dash_bootstrap_components as dbc\n",
        "from dash.dependencies import Input, Output, State\n",
        "from jupyter_dash import JupyterDash\n",
        "import torch\n",
        "def textbox(text, box=\"other\"):\n",
        "    style = {\n",
        "        \"max-width\": \"55%\",\n",
        "        \"width\": \"max-content\",\n",
        "        \"padding\": \"10px 15px\",\n",
        "        \"border-radius\": \"25px\"\n",
        "    }\n",
        "\n",
        "    if box == \"self\":\n",
        "        style[\"margin-left\"] = \"auto\"\n",
        "        style[\"margin-right\"] = 0\n",
        "\n",
        "        color = \"primary\"\n",
        "        inverse = True\n",
        "\n",
        "    elif box == \"other\":\n",
        "        style[\"margin-left\"] = 0\n",
        "        style[\"margin-right\"] = \"auto\"\n",
        "\n",
        "        color = \"light\"\n",
        "        inverse = False\n",
        "\n",
        "    else:\n",
        "        raise ValueError(\"Incorrect option for `box`.\")\n",
        "\n",
        "    return dbc.Card(text, style=style, body=True, color=color, inverse=inverse)\n",
        "conversation = html.Div(\n",
        "    style={\n",
        "        \"width\": \"80%\",\n",
        "        \"max-width\": \"800px\",\n",
        "        \"height\": \"70vh\",\n",
        "        \"margin\": \"auto\",\n",
        "        \"overflow-y\": \"auto\",\n",
        "    },\n",
        "    id=\"display-conversation\",\n",
        ")\n",
        "\n",
        "controls = dbc.InputGroup(\n",
        "    style={\"width\": \"80%\", \"max-width\": \"800px\", \"margin\": \"auto\"},\n",
        "    children=[\n",
        "        dbc.Input(id=\"user-input\", placeholder=\"Write to the chatbot...\", type=\"text\"),\n",
        "        dbc.Button(\"Submit\", id=\"submit\"),\n",
        "    ],\n",
        ")\n",
        "\n",
        "\n",
        "# Define app\n",
        "app = JupyterDash(__name__, external_stylesheets=[dbc.themes.BOOTSTRAP])\n",
        "server = app.server\n",
        "\n",
        "\n",
        "# Define Layout\n",
        "app.layout = dbc.Container(\n",
        "    fluid=True,\n",
        "    style={'background-image': 'url(https://cdn.pixabay.com/photo/2020/05/19/13/54/man-5190962_960_720.jpg)'},\n",
        "    children=[\n",
        "        html.H1(\"BertAbsSum\"),\n",
        "        html.Hr(),\n",
        "        dcc.Store(id=\"store-conversation\", data=\"\"),\n",
        "        conversation,\n",
        "        controls\n",
        "    ],\n",
        ")\n",
        "@app.callback(\n",
        "    Output(\"display-conversation\", \"children\"), [Input(\"store-conversation\", \"data\")]\n",
        ")\n",
        "def update_display(chat_history):\n",
        "    return [\n",
        "        textbox(x, box=\"self\") if i % 2 == 0 else textbox(x, box=\"other\")\n",
        "        for i, x in enumerate(chat_history.split('<token>'))\n",
        "    ]\n",
        "\n",
        "\n",
        "@app.callback(\n",
        "    [Output(\"store-conversation\", \"data\"), Output(\"user-input\", \"value\")],\n",
        "    [Input(\"submit\", \"n_clicks\"), Input(\"user-input\", \"n_submit\")],\n",
        "    [State(\"user-input\", \"value\"), State(\"store-conversation\", \"data\")],\n",
        ")\n",
        "def run_chatbot(n_clicks, n_submit, user_input, chat_history):\n",
        "    if n_clicks == 0:\n",
        "        return \"\", \"\"\n",
        "\n",
        "    if user_input is None or user_input == \"\":\n",
        "        return chat_history, \"\"\n",
        "\n",
        "    bot_input_ids = BertData().preprocess(user_input)\n",
        "        \n",
        "    final_text = test_abs(args, bot_input_ids, -1, '', 200000)\n",
        "    chat_history = user_input + '<token>' +final_text[0]\n",
        "    return chat_history, \"\""
      ],
      "metadata": {
        "id": "XbZ_hs7jQJBZ",
        "colab": {
          "base_uri": "https://localhost:8080/",
          "height": 163
        },
        "outputId": "84567517-6ed7-4f74-bfee-5ccbead167e1"
      },
      "execution_count": 25,
      "outputs": [
        {
          "output_type": "stream",
          "name": "stderr",
          "text": [
            "/usr/local/lib/python3.7/dist-packages/ipykernel_launcher.py:4: UserWarning: \n",
            "The dash_html_components package is deprecated. Please replace\n",
            "`import dash_html_components as html` with `from dash import html`\n",
            "  after removing the cwd from sys.path.\n",
            "/usr/local/lib/python3.7/dist-packages/ipykernel_launcher.py:5: UserWarning: \n",
            "The dash_core_components package is deprecated. Please replace\n",
            "`import dash_core_components as dcc` with `from dash import dcc`\n",
            "  \"\"\"\n"
          ]
        }
      ]
    },
    {
      "cell_type": "code",
      "source": [
        "app.run_server(mode='external')"
      ],
      "metadata": {
        "colab": {
          "base_uri": "https://localhost:8080/",
          "height": 53
        },
        "id": "g4zGujT0k3nn",
        "outputId": "0130f9fd-f2cb-4cdf-e875-ffb77d11ec81"
      },
      "execution_count": 26,
      "outputs": [
        {
          "output_type": "stream",
          "name": "stdout",
          "text": [
            "Dash app running on:\n"
          ]
        },
        {
          "output_type": "display_data",
          "data": {
            "text/plain": [
              "<IPython.core.display.Javascript object>"
            ],
            "application/javascript": [
              "(async (port, path, text, element) => {\n",
              "    if (!google.colab.kernel.accessAllowed) {\n",
              "      return;\n",
              "    }\n",
              "    element.appendChild(document.createTextNode(''));\n",
              "    const url = await google.colab.kernel.proxyPort(port);\n",
              "    const anchor = document.createElement('a');\n",
              "    anchor.href = new URL(path, url).toString();\n",
              "    anchor.target = '_blank';\n",
              "    anchor.setAttribute('data-href', url + path);\n",
              "    anchor.textContent = text;\n",
              "    element.appendChild(anchor);\n",
              "  })(8050, \"/\", \"http://127.0.0.1:8050/\", window.element)"
            ]
          },
          "metadata": {}
        }
      ]
    }
  ],
  "metadata": {
    "colab": {
      "collapsed_sections": [],
      "name": "gas_bertsum_project.ipynb의 사본",
      "provenance": []
    },
    "kernelspec": {
      "display_name": "Python 3",
      "name": "python3"
    },
    "language_info": {
      "name": "python"
    }
  },
  "nbformat": 4,
  "nbformat_minor": 0
}